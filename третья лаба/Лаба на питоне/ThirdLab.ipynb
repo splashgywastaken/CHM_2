{
 "cells": [
  {
   "cell_type": "markdown",
   "source": [
    "Импорт нужных либ"
   ],
   "metadata": {
    "collapsed": false
   }
  },
  {
   "cell_type": "code",
   "execution_count": 33,
   "metadata": {
    "collapsed": true
   },
   "outputs": [],
   "source": [
    "import numpy as np\n",
    "import matplotlib.pyplot as plt\n",
    "from sympy import *\n",
    "%matplotlib inline"
   ]
  },
  {
   "cell_type": "markdown",
   "source": [
    "# Лабораторная работа №1. Задание 1. Вариант 25\n",
    "Решается обыкновенное дифференциальное уравнение\n",
    "$ U''(x) = f(x, U, U'), x \\in [a; b] $\n",
    "С краевыми (граничными) условиями\n",
    "$ U(a) = A; $\n",
    "$ \\mu_1U(b) + \\nu_1U'(b) = B $\n",
    "Метод решения уравнения $ \\varphi(\\alpha) = 0 $ - метод половинного деления\n",
    "Направление интегрирования: $ a \\implies b $"
   ],
   "metadata": {
    "collapsed": false
   }
  },
  {
   "cell_type": "markdown",
   "source": [
    "Входные параметры"
   ],
   "metadata": {
    "collapsed": false
   }
  },
  {
   "cell_type": "code",
   "execution_count": 34,
   "outputs": [],
   "source": [
    "# Границы отрезка, на котором ищется решение:\n",
    "a, b = -1, 1\n",
    "# Число отрезков разбиения\n",
    "N = 50\n",
    "# Точность решения нелинейного уравнения\n",
    "epsilon = 1e-3\n",
    "# Предельное число итераций\n",
    "K = 25\n",
    "# Начальное значение пристрелочного параметра\n",
    "alpha = 0\n",
    "# Использовать коэффициенты A и B или mu1 и nu1\n",
    "# Константы краевых уравнений\n",
    "A, B = -2, 1\n",
    "mu1 = 1\n",
    "nu1 = 1"
   ],
   "metadata": {
    "collapsed": false,
    "pycharm": {
     "name": "#%%\n"
    }
   }
  },
  {
   "cell_type": "code",
   "execution_count": 35,
   "outputs": [],
   "source": [
    "# Шаг\n",
    "h = (b-a) / N\n",
    "flag_IER = True\n",
    "iterations_count = 0 # Для итераций в МПД\n",
    "\n",
    "x_array = Symbol('x')\n",
    "u = Symbol('u')\n",
    "w = Symbol('w')\n",
    "# Задание функции\n",
    "f_exact_solution = x_array ** 2\n",
    "exact_solution = lambdify(x_array, f_exact_solution)\n",
    "\n",
    "fd_exact_solution = diff(f_exact_solution, x_array)\n",
    "derivative_exact_solution = lambdify(x_array, fd_exact_solution)"
   ],
   "metadata": {
    "collapsed": false,
    "pycharm": {
     "name": "#%%\n"
    }
   }
  },
  {
   "cell_type": "markdown",
   "source": [
    "# Всякие функции для работы лабы"
   ],
   "metadata": {
    "collapsed": false
   }
  },
  {
   "cell_type": "code",
   "execution_count": 36,
   "outputs": [],
   "source": [
    "# Разные функции для работы программы\n",
    "def x_i():\n",
    "        x_array = np.zeros(N + 1)\n",
    "        for i in range(N + 1):\n",
    "            x_array[i] = float(a + i * h)\n",
    "        return x_array\n",
    "\n",
    "# Функция первоначальной задачи Коши\n",
    "f1 = lambda x, u, w: w\n",
    "\n",
    "# Вторая производная\n",
    "f2d_exact_solution = diff(fd_exact_solution, x_array)\n",
    "f2 = lambdify([x_array, u, w], f2d_exact_solution)\n",
    "\n",
    "# Метод Рунге Кутта 4 порядка:\n",
    "def RungeKut(input_u, input_w, input_alpha):\n",
    "    input_u[0] = A # u\n",
    "    input_w[0] = input_alpha # w\n",
    "    k1 = np.zeros(2)\n",
    "    k2 = np.zeros(2)\n",
    "\n",
    "    for i in range(N):\n",
    "        k1[0] = (h * f1(x_array[i], input_u[i], input_w[i]))\n",
    "        k1[1] = (h * f2(x_array[i], input_u[i], input_w[i]))\n",
    "\n",
    "        k2[0] = (h * f1(x_array[i] + h, input_u[i] + k1[0], input_w[i] + k1[1]))\n",
    "        k2[1] = (h * f2(x_array[i] + h, input_u[i] + k1[0], input_w[i] + k1[1]))\n",
    "\n",
    "        input_u[i + 1] = (input_u[i] + 0.5 * (k1[0] + k2[0]))\n",
    "        input_w[i + 1] = (input_w[i] + 0.5 * (k1[1] + k2[1]))\n",
    "    return input_u, input_w\n",
    "\n",
    "def fiAlpha(input_alpha, input_u_array, input_w_array):\n",
    "    # В тмпу хранятся приближенные значения точного решения функции\n",
    "    # В тмпв знач. первой производной функции\n",
    "    tmp_u, tmp_w = RungeKut(input_u_array, input_w_array, input_alpha)\n",
    "    # Значение функции на границе - В, где В - значение производной функции с права\n",
    "    fi_alpha_value = tmp_u[N] - B\n",
    "    return fi_alpha_value\n",
    "\n",
    "def different_sign(lvalue, rvalue):\n",
    "    return lvalue * rvalue < 0\n",
    "\n",
    " # (страница 14 пункт 3, можно сделать свой алгоритм, мне скинули такой)\n",
    "def find_alpha2_value(alpha1, input_u_array, input_w_array):\n",
    "    phi_alpha1 = fiAlpha(alpha1, input_u_array, input_w_array)\n",
    "    delta = 1.0\n",
    "    alpha_2 = alpha1 + delta\n",
    "    phi_alpha2 = fiAlpha(alpha_2, input_u_array, input_w_array)\n",
    "    flag_reversed = False\n",
    "    while not different_sign(phi_alpha1, phi_alpha2):\n",
    "        alpha_2 = alpha1 + delta\n",
    "        phi_alpha2 = fiAlpha(alpha_2, input_u_array, input_w_array)\n",
    "        if phi_alpha1 < 0:\n",
    "            if not (phi_alpha2 > phi_alpha1 and flag_reversed):\n",
    "                delta += 0.2\n",
    "            elif phi_alpha2 > phi_alpha1 and flag_reversed:\n",
    "                delta -= 0.2\n",
    "            elif phi_alpha2 < phi_alpha1:\n",
    "                delta = delta * (-1)\n",
    "                flag_reversed = True\n",
    "        if phi_alpha1 > 0:\n",
    "            if phi_alpha2 > phi_alpha1:\n",
    "                delta = delta * (-1)\n",
    "                flag_reversed = True\n",
    "            else:\n",
    "                if not phi_alpha2 < phi_alpha1 and flag_reversed:\n",
    "                    delta += 0.2\n",
    "                if phi_alpha2 < phi_alpha1 and flag_reversed:\n",
    "                    delta -= 0.2\n",
    "    return alpha_2\n",
    "\n",
    "# МПД\n",
    "def bisection(neg_point, pos_point, input_epsilon, input_u_array, input_w_array):\n",
    "    global flag_IER\n",
    "    global iterations_count\n",
    "    iterations_count += 1\n",
    "    if iterations_count > K:\n",
    "        print('IER = 1:Количество итераций слишком велико')\n",
    "        flag_IER = False\n",
    "        return None\n",
    "    average_point = (pos_point + neg_point) / 2  # Средняя точка между концами интервала\n",
    "    if abs(neg_point - pos_point) < input_epsilon:  # Основное условие для нахождения нуля функции\n",
    "        return average_point\n",
    "    test_value = fiAlpha(average_point, input_u_array, input_w_array)  # Значение функции в средней точке\n",
    "    if test_value > 0:\n",
    "        return bisection(neg_point, average_point, input_epsilon, input_u_array, input_w_array)\n",
    "    elif test_value < 0:\n",
    "        return bisection(average_point, pos_point, input_epsilon, input_u_array, input_w_array)\n",
    "    return average_point"
   ],
   "metadata": {
    "collapsed": false,
    "pycharm": {
     "name": "#%%\n"
    }
   }
  },
  {
   "cell_type": "markdown",
   "source": [
    "# Код алгоритма"
   ],
   "metadata": {
    "collapsed": false
   }
  },
  {
   "cell_type": "code",
   "execution_count": 37,
   "outputs": [
    {
     "name": "stdout",
     "output_type": "stream",
     "text": [
      "Фи в альфа* 0.9990234375000013\n",
      "-0.00048828125\n",
      "EIR = 0:Безошибочная работа программы\n",
      "Количество итераций 11\n",
      "Конечное значение параметра пристрелки -0.00048828125\n",
      "   x         y            deltaU      y'                  deltaU'\n",
      "-1.00000   1.00000e+00   3.00000e+00  -2.00000e+00   1.99951e+00\n",
      "-0.96000   9.21600e-01   2.92002e+00  -1.92000e+00   1.99951e+00\n",
      "-0.92000   8.46400e-01   2.84004e+00  -1.84000e+00   1.99951e+00\n",
      "-0.88000   7.74400e-01   2.76006e+00  -1.76000e+00   1.99951e+00\n",
      "-0.84000   7.05600e-01   2.68008e+00  -1.68000e+00   1.99951e+00\n",
      "-0.80000   6.40000e-01   2.60010e+00  -1.60000e+00   1.99951e+00\n",
      "-0.76000   5.77600e-01   2.52012e+00  -1.52000e+00   1.99951e+00\n",
      "-0.72000   5.18400e-01   2.44014e+00  -1.44000e+00   1.99951e+00\n",
      "-0.68000   4.62400e-01   2.36016e+00  -1.36000e+00   1.99951e+00\n",
      "-0.64000   4.09600e-01   2.28018e+00  -1.28000e+00   1.99951e+00\n",
      "-0.60000   3.60000e-01   2.20020e+00  -1.20000e+00   1.99951e+00\n",
      "-0.56000   3.13600e-01   2.12021e+00  -1.12000e+00   1.99951e+00\n",
      "-0.52000   2.70400e-01   2.04023e+00  -1.04000e+00   1.99951e+00\n",
      "-0.48000   2.30400e-01   1.96025e+00  -9.60000e-01   1.99951e+00\n",
      "-0.44000   1.93600e-01   1.88027e+00  -8.80000e-01   1.99951e+00\n",
      "-0.40000   1.60000e-01   1.80029e+00  -8.00000e-01   1.99951e+00\n",
      "-0.36000   1.29600e-01   1.72031e+00  -7.20000e-01   1.99951e+00\n",
      "-0.32000   1.02400e-01   1.64033e+00  -6.40000e-01   1.99951e+00\n",
      "-0.28000   7.84000e-02   1.56035e+00  -5.60000e-01   1.99951e+00\n",
      "-0.24000   5.76000e-02   1.48037e+00  -4.80000e-01   1.99951e+00\n",
      "-0.20000   4.00000e-02   1.40039e+00  -4.00000e-01   1.99951e+00\n",
      "-0.16000   2.56000e-02   1.32041e+00  -3.20000e-01   1.99951e+00\n",
      "-0.12000   1.44000e-02   1.24043e+00  -2.40000e-01   1.99951e+00\n",
      "-0.08000   6.40000e-03   1.16045e+00  -1.60000e-01   1.99951e+00\n",
      "-0.04000   1.60000e-03   1.08047e+00  -8.00000e-02   1.99951e+00\n",
      " 0.00000   0.00000e+00   1.00049e+00   0.00000e+00   1.99951e+00\n",
      " 0.04000   1.60000e-03   9.20508e-01   8.00000e-02   1.99951e+00\n",
      " 0.08000   6.40000e-03   8.40527e-01   1.60000e-01   1.99951e+00\n",
      " 0.12000   1.44000e-02   7.60547e-01   2.40000e-01   1.99951e+00\n",
      " 0.16000   2.56000e-02   6.80566e-01   3.20000e-01   1.99951e+00\n",
      " 0.20000   4.00000e-02   6.00586e-01   4.00000e-01   1.99951e+00\n",
      " 0.24000   5.76000e-02   5.20605e-01   4.80000e-01   1.99951e+00\n",
      " 0.28000   7.84000e-02   4.40625e-01   5.60000e-01   1.99951e+00\n",
      " 0.32000   1.02400e-01   3.60645e-01   6.40000e-01   1.99951e+00\n",
      " 0.36000   1.29600e-01   2.80664e-01   7.20000e-01   1.99951e+00\n",
      " 0.40000   1.60000e-01   2.00684e-01   8.00000e-01   1.99951e+00\n",
      " 0.44000   1.93600e-01   1.20703e-01   8.80000e-01   1.99951e+00\n",
      " 0.48000   2.30400e-01   4.07227e-02   9.60000e-01   1.99951e+00\n",
      " 0.52000   2.70400e-01   3.92578e-02   1.04000e+00   1.99951e+00\n",
      " 0.56000   3.13600e-01   1.19238e-01   1.12000e+00   1.99951e+00\n",
      " 0.60000   3.60000e-01   1.99219e-01   1.20000e+00   1.99951e+00\n",
      " 0.64000   4.09600e-01   2.79199e-01   1.28000e+00   1.99951e+00\n",
      " 0.68000   4.62400e-01   3.59180e-01   1.36000e+00   1.99951e+00\n",
      " 0.72000   5.18400e-01   4.39160e-01   1.44000e+00   1.99951e+00\n",
      " 0.76000   5.77600e-01   5.19141e-01   1.52000e+00   1.99951e+00\n",
      " 0.80000   6.40000e-01   5.99121e-01   1.60000e+00   1.99951e+00\n",
      " 0.84000   7.05600e-01   6.79102e-01   1.68000e+00   1.99951e+00\n",
      " 0.88000   7.74400e-01   7.59082e-01   1.76000e+00   1.99951e+00\n",
      " 0.92000   8.46400e-01   8.39063e-01   1.84000e+00   1.99951e+00\n",
      " 0.96000   9.21600e-01   9.19043e-01   1.92000e+00   1.99951e+00\n",
      " 1.00000   1.00000e+00   9.99023e-01   2.00000e+00   1.99951e+00\n"
     ]
    }
   ],
   "source": [
    "if N < 0 or K <= 0 or epsilon < 0:\n",
    "    flag_IER = False\n",
    "    IER = 2\n",
    "    print('IER', IER, ':Неправильные значения')\n",
    "while flag_IER:\n",
    "    x_array = x_i()\n",
    "    u_array = np.zeros(N + 1)\n",
    "    w_array = np.zeros(N + 1)\n",
    "    u_array, w_array = RungeKut(u_array, w_array, alpha)\n",
    "\n",
    "    alpha2 = find_alpha2_value(alpha, u_array, w_array)\n",
    "\n",
    "    result = bisection(alpha, alpha2, epsilon, u_array, w_array)\n",
    "    print('Фи в альфа*', fiAlpha(result, u_array, w_array))\n",
    "    print(result)\n",
    "\n",
    "    # Заголовок вывода\n",
    "    if not flag_IER:\n",
    "        break\n",
    "    print('EIR = 0:Безошибочная работа программы')\n",
    "    print('Количество итераций', iterations_count)\n",
    "    print('Конечное значение параметра пристрелки', result)\n",
    "    str0 = \"   x\"\n",
    "    str1 = \"     y\"\n",
    "    str2 = \"    deltaU\"\n",
    "    str3 = \"  y'\"\n",
    "    str4 = \"        deltaU'\"\n",
    "    print('{0:8s}{1:14s}{2:14s}{3:14s}{4:14s}'.format(str0, str1, str2, str3, str4))\n",
    "\n",
    "    for i in np.arange(0, N + 1):\n",
    "        xi = x_array[i]\n",
    "        y1i = exact_solution(x_array[i])\n",
    "        deltau = abs(exact_solution(x_array[i]) - u_array[i])\n",
    "        y_ = derivative_exact_solution(x_array[i])\n",
    "        deltau_ = abs(derivative_exact_solution(x_array[i]) - w_array[i])\n",
    "        print('{0:8.5f}{1:14.5e}{2:14.5e}{3:14.5e}{4:14.5e}'.format(xi, y1i, deltau, y_, deltau_))\n",
    "\n",
    "    flag_IER = False"
   ],
   "metadata": {
    "collapsed": false,
    "pycharm": {
     "name": "#%%\n"
    }
   }
  },
  {
   "cell_type": "code",
   "execution_count": 38,
   "outputs": [],
   "source": [
    "# y = np.zeros(N + 1)\n",
    "# deltau = np.zeros(N + 1)\n",
    "# y_ = np.zeros(N + 1)\n",
    "# deltau_ = np.zeros(N + 1)\n",
    "# for i in np.arange(0, N + 1):\n",
    "#         y[i] = exact_solution(x[i])\n",
    "#         deltau[i] = abs(exact_solution(x[i]) - u[i])\n",
    "#         y_[i] = derivative_exact_solution(x[i])\n",
    "#         deltau_[i] = abs(derivative_exact_solution(x[i]) - v[i])\n",
    "# plt.figure(figsize=(10,6))\n",
    "# plt.plot(\n",
    "#     x, y,\n",
    "#     x, y_\n",
    "# )\n",
    "# plt.legend([\n",
    "#     'Y',\n",
    "#     \"Y'\"\n",
    "# ])\n",
    "# plt.grid(true)\n",
    "# plt.title(\"Функции $Y$ и $Y'$\")\n",
    "# plt.xlabel(\"X\")\n",
    "# plt.ylabel(\"Y\")\n",
    "#\n",
    "# plt.figure(figsize=(10,6))\n",
    "# plt.plot(\n",
    "#     x, deltau\n",
    "# )\n",
    "# plt.legend([\n",
    "#     \"$\\delta$U\"\n",
    "# ])\n",
    "# plt.grid(true)\n",
    "# plt.title(\"Абсолютная погрешность для $Y$\")\n",
    "# plt.xlabel(\"X\")\n",
    "# plt.ylabel(\"Y\")\n",
    "#\n",
    "# plt.figure(figsize=(10,6))\n",
    "# plt.plot(\n",
    "#     x, deltau_\n",
    "# )\n",
    "# plt.legend([\n",
    "#     \"$\\delta$U'\"\n",
    "# ])\n",
    "# plt.grid(true)\n",
    "# plt.title(\"Абсолютная погрешность для $Y'$\")\n",
    "# plt.xlabel(\"X\")\n",
    "# plt.ylabel(\"Y\")"
   ],
   "metadata": {
    "collapsed": false,
    "pycharm": {
     "name": "#%%\n"
    }
   }
  },
  {
   "cell_type": "markdown",
   "source": [
    "# Задание 2. Вариант 6\n",
    "Решается обыкновенное дифференциальное уравнение\n",
    "$ U'''(x) = f(x, U, U', U''), x \\in [a; b] $\n",
    "С краевыми (граничными) условиями\n",
    "$ U'(a) = A; $\n",
    "$ U(b) = B, U''(b) = C $\n",
    "Метод решения уравнения $ \\varphi(\\alpha) = 0 $ - метод секущих\n",
    "Направление интегрирования: $ a \\implies b $"
   ],
   "metadata": {
    "collapsed": false
   }
  },
  {
   "cell_type": "code",
   "execution_count": 38,
   "outputs": [],
   "source": [],
   "metadata": {
    "collapsed": false,
    "pycharm": {
     "name": "#%%\n"
    }
   }
  }
 ],
 "metadata": {
  "kernelspec": {
   "display_name": "Python 3",
   "language": "python",
   "name": "python3"
  },
  "language_info": {
   "codemirror_mode": {
    "name": "ipython",
    "version": 2
   },
   "file_extension": ".py",
   "mimetype": "text/x-python",
   "name": "python",
   "nbconvert_exporter": "python",
   "pygments_lexer": "ipython2",
   "version": "2.7.6"
  }
 },
 "nbformat": 4,
 "nbformat_minor": 0
}