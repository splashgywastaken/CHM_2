{
 "cells": [
  {
   "cell_type": "markdown",
   "source": [
    "Импорт нужных либ"
   ],
   "metadata": {
    "collapsed": false,
    "pycharm": {
     "name": "#%% md\n"
    }
   }
  },
  {
   "cell_type": "code",
   "execution_count": 1,
   "metadata": {
    "collapsed": true,
    "pycharm": {
     "name": "#%%\n"
    }
   },
   "outputs": [],
   "source": [
    "import numpy as np\n",
    "import matplotlib.pyplot as plt\n",
    "from sympy import *\n",
    "from prettytable import PrettyTable\n",
    "%matplotlib inline"
   ]
  },
  {
   "cell_type": "markdown",
   "source": [
    "# Лабораторная работа №1. Задание 1. Вариант 25\n",
    "Решается обыкновенное дифференциальное уравнение\n",
    "$ U''(x) = f(x, U, U'), x \\in [a; b] $\n",
    "С краевыми (граничными) условиями\n",
    "$ U(a) = A; $\n",
    "$ \\mu_1U(b) + \\nu_1U'(b) = B $\n",
    "Метод решения уравнения $ \\varphi(\\alpha) = 0 $ - метод половинного деления\n",
    "Направление интегрирования: $ a \\implies b $"
   ],
   "metadata": {
    "collapsed": false,
    "pycharm": {
     "name": "#%% md\n"
    }
   }
  },
  {
   "cell_type": "markdown",
   "source": [
    "Входные параметры"
   ],
   "metadata": {
    "collapsed": false,
    "pycharm": {
     "name": "#%% md\n"
    }
   }
  },
  {
   "cell_type": "code",
   "execution_count": 2,
   "outputs": [],
   "source": [
    "# Границы отрезка, на котором ищется решение:\n",
    "a, b = -1, 1\n",
    "# Число отрезков разбиения\n",
    "N = 50\n",
    "# Точность решения нелинейного уравнения\n",
    "epsilon = 1e-11\n",
    "# Предельное число итераций\n",
    "K = 1000\n",
    "# Начальное значение пристрелочного параметра\n",
    "alpha = 0\n",
    "# Константы краевых уравнений\n",
    "A, B = -2, 1"
   ],
   "metadata": {
    "collapsed": false,
    "pycharm": {
     "name": "#%%\n"
    }
   }
  },
  {
   "cell_type": "code",
   "execution_count": 3,
   "outputs": [
    {
     "name": "stdout",
     "output_type": "stream",
     "text": [
      "6\n",
      "0\n"
     ]
    }
   ],
   "source": [
    "# Шаг\n",
    "h = (b-a) / N\n",
    "flag_IER = True\n",
    "iterations_count = 0 # Для итераций в МПД\n",
    "\n",
    "x = Symbol('x')\n",
    "u = Symbol('u')\n",
    "w = Symbol('w')\n",
    "# Задание функции\n",
    "f_exact_solution = 6 * x\n",
    "exact_solution = lambdify([x, u , w], f_exact_solution)\n",
    "# Первая производная\n",
    "fd_exact_solution = diff(f_exact_solution, x) + diff(f_exact_solution, u) + diff(f_exact_solution, w)\n",
    "derivative_exact_solution = lambdify([x, u , w], fd_exact_solution)\n",
    "print(fd_exact_solution)\n",
    "# Вторая производная\n",
    "f2d_exact_solution = diff(fd_exact_solution, x) + diff(fd_exact_solution, u) + diff(fd_exact_solution, w)\n",
    "derivative2_exact_solution = lambdify([x, u , w], f2d_exact_solution)\n",
    "print(f2d_exact_solution)"
   ],
   "metadata": {
    "collapsed": false,
    "pycharm": {
     "name": "#%%\n"
    }
   }
  },
  {
   "cell_type": "markdown",
   "source": [
    "# Всякие функции для работы лабы"
   ],
   "metadata": {
    "collapsed": false,
    "pycharm": {
     "name": "#%% md\n"
    }
   }
  },
  {
   "cell_type": "code",
   "execution_count": 4,
   "outputs": [],
   "source": [
    "# Разные функции для работы программы\n",
    "def x_i():\n",
    "        x_array = np.zeros(N + 1)\n",
    "        for i in range(N + 1):\n",
    "            x_array[i] = float(a + i * h)\n",
    "        return x_array\n",
    "\n",
    "# Функция первоначальной задачи Коши\n",
    "f1 = lambda x, u, w: w\n",
    "\n",
    "f2 = derivative2_exact_solution\n",
    "\n",
    "# Метод Рунге Кутта 2 порядка:\n",
    "def RungeKut(input_u, input_w, input_alpha):\n",
    "    input_u[0] = A # u\n",
    "    input_w[0] = input_alpha # w\n",
    "    k1 = np.zeros(2)\n",
    "    k2 = np.zeros(2)\n",
    "\n",
    "    for i in range(N):\n",
    "        k1[0] = (h * f1(x_array[i], input_u[i], input_w[i]))\n",
    "        k1[1] = (h * f2(x_array[i], input_u[i], input_w[i]))\n",
    "\n",
    "        k2[0] = (h * f1(x_array[i] + h, input_u[i] + k1[0], input_w[i] + k1[1]))\n",
    "        k2[1] = (h * f2(x_array[i] + h, input_u[i] + k1[0], input_w[i] + k1[1]))\n",
    "\n",
    "        input_u[i + 1] = (input_u[i] + 0.5 * (k1[0] + k2[0]))\n",
    "        input_w[i + 1] = (input_w[i] + 0.5 * (k1[1] + k2[1]))\n",
    "    return input_u, input_w\n",
    "\n",
    "def fiAlpha(input_alpha, input_u_array, input_w_array):\n",
    "    # В тмпу хранятся приближенные значения точного решения функции\n",
    "    # В тмпв знач. первой производной функции\n",
    "    tmp_u, tmp_w = RungeKut(input_u_array, input_w_array, input_alpha)\n",
    "    # Значение функции на границе - В, где В - значение производной функции с права\n",
    "    fi_alpha_value = tmp_u[N] - B\n",
    "    return fi_alpha_value\n",
    "\n",
    "def different_sign(lvalue, rvalue):\n",
    "    return lvalue * rvalue < 0\n",
    "\n",
    "def find_alpha2_value(alpha1, input_u_array, input_w_array):\n",
    "    phi_alpha1 = fiAlpha(alpha1, input_u_array, input_w_array)\n",
    "    delta = 1.0\n",
    "    alpha_2 = alpha1 + delta\n",
    "    phi_alpha2 = fiAlpha(alpha_2, input_u_array, input_w_array)\n",
    "    flag_reversed = False\n",
    "    while not different_sign(phi_alpha1, phi_alpha2):\n",
    "        alpha_2 = alpha1 + delta\n",
    "        phi_alpha2 = fiAlpha(alpha_2, input_u_array, input_w_array)\n",
    "        if phi_alpha1 < 0:\n",
    "            if not (phi_alpha2 > phi_alpha1 and flag_reversed):\n",
    "                delta += 0.2\n",
    "            elif phi_alpha2 > phi_alpha1 and flag_reversed:\n",
    "                delta -= 0.2\n",
    "            elif phi_alpha2 < phi_alpha1:\n",
    "                delta = delta * (-1)\n",
    "                flag_reversed = True\n",
    "        if phi_alpha1 > 0:\n",
    "            if phi_alpha2 > phi_alpha1:\n",
    "                delta = delta * (-1)\n",
    "                flag_reversed = True\n",
    "            else:\n",
    "                if not phi_alpha2 < phi_alpha1 and flag_reversed:\n",
    "                    delta += 0.2\n",
    "                if phi_alpha2 < phi_alpha1 and flag_reversed:\n",
    "                    delta -= 0.2\n",
    "    return alpha_2\n",
    "\n",
    "# МПД\n",
    "def bisection(neg_point, pos_point, input_epsilon, input_u_array, input_w_array):\n",
    "    global flag_IER\n",
    "    global iterations_count\n",
    "    iterations_count += 1\n",
    "    if iterations_count > K:\n",
    "        print('IER = 1:Количество итераций слишком велико')\n",
    "        flag_IER = False\n",
    "        return None\n",
    "    average_point = (pos_point + neg_point) / 2  # Средняя точка между концами интервала\n",
    "    if abs(neg_point - pos_point) < input_epsilon:  # Основное условие для нахождения нуля функции\n",
    "        return average_point\n",
    "    test_value = fiAlpha(average_point, input_u_array, input_w_array)  # Значение функции в средней точке\n",
    "    if test_value > 0:\n",
    "        return bisection(neg_point, average_point, input_epsilon, input_u_array, input_w_array)\n",
    "    elif test_value < 0:\n",
    "        return bisection(average_point, pos_point, input_epsilon, input_u_array, input_w_array)\n",
    "    return average_point"
   ],
   "metadata": {
    "collapsed": false,
    "pycharm": {
     "name": "#%%\n"
    }
   }
  },
  {
   "cell_type": "markdown",
   "source": [
    "# Код алгоритма"
   ],
   "metadata": {
    "collapsed": false,
    "pycharm": {
     "name": "#%% md\n"
    }
   }
  },
  {
   "cell_type": "code",
   "execution_count": 5,
   "outputs": [
    {
     "name": "stdout",
     "output_type": "stream",
     "text": [
      "Фи в альфа* -5.8186788720604454e-12\n",
      "EIR = 0:Безошибочная работа программы\n",
      "Количество итераций 39\n",
      "Конечное значение параметра пристрелки 1.4999999999970897\n",
      "+-----------------------+----------------------+---------------------+----+-------------------+\n",
      "|           x           |          y           |        deltaU       | y' |      deltaU'      |\n",
      "+-----------------------+----------------------+---------------------+----+-------------------+\n",
      "|          -1.0         |         -6.0         |         4.0         | 6  | 4.500000000002911 |\n",
      "|         -0.96         |        -5.76         |  3.8199999999998835 | 6  | 4.500000000002911 |\n",
      "|         -0.92         | -5.5200000000000005  |  3.639999999999768  | 6  | 4.500000000002911 |\n",
      "|         -0.88         |        -5.28         |  3.4599999999996514 | 6  | 4.500000000002911 |\n",
      "|         -0.84         |        -5.04         |  3.279999999999535  | 6  | 4.500000000002911 |\n",
      "|          -0.8         |  -4.800000000000001  |  3.099999999999419  | 6  | 4.500000000002911 |\n",
      "|         -0.76         | -4.5600000000000005  |  2.9199999999993027 | 6  | 4.500000000002911 |\n",
      "|         -0.72         |        -4.32         |  2.739999999999186  | 6  | 4.500000000002911 |\n",
      "|  -0.6799999999999999  |        -4.08         |  2.5599999999990697 | 6  | 4.500000000002911 |\n",
      "|         -0.64         |        -3.84         |  2.379999999998953  | 6  | 4.500000000002911 |\n",
      "|          -0.6         | -3.5999999999999996  |  2.1999999999988367 | 6  | 4.500000000002911 |\n",
      "|         -0.56         | -3.3600000000000003  |  2.019999999998721  | 6  | 4.500000000002911 |\n",
      "|         -0.52         |        -3.12         |  1.8399999999986045 | 6  | 4.500000000002911 |\n",
      "|         -0.48         |        -2.88         |  1.659999999998488  | 6  | 4.500000000002911 |\n",
      "|  -0.43999999999999995 | -2.6399999999999997  |  1.4799999999983715 | 6  | 4.500000000002911 |\n",
      "|          -0.4         | -2.4000000000000004  |  1.2999999999982559 | 6  | 4.500000000002911 |\n",
      "|         -0.36         |        -2.16         |  1.1199999999981394 | 6  | 4.500000000002911 |\n",
      "|  -0.31999999999999995 | -1.9199999999999997  |  0.9399999999980225 | 6  | 4.500000000002911 |\n",
      "|         -0.28         | -1.6800000000000002  |  0.7599999999979066 | 6  | 4.500000000002911 |\n",
      "|         -0.24         |        -1.44         |   0.57999999999779  | 6  | 4.500000000002911 |\n",
      "|  -0.19999999999999996 | -1.1999999999999997  | 0.39999999999767333 | 6  | 4.500000000002911 |\n",
      "|  -0.16000000000000003 | -0.9600000000000002  | 0.21999999999755737 | 6  | 4.500000000002911 |\n",
      "|         -0.12         |        -0.72         | 0.03999999999744075 | 6  | 4.500000000002911 |\n",
      "|  -0.07999999999999996 | -0.47999999999999976 | 0.14000000000267587 | 6  | 4.500000000002911 |\n",
      "| -0.040000000000000036 | -0.2400000000000002  | 0.32000000000279183 | 6  | 4.500000000002911 |\n",
      "|          0.0          |         0.0          |  0.5000000000029085 | 6  | 4.500000000002911 |\n",
      "|  0.040000000000000036 |  0.2400000000000002  |  0.6800000000030251 | 6  | 4.500000000002911 |\n",
      "|  0.08000000000000007  |  0.4800000000000004  |  0.8600000000031417 | 6  | 4.500000000002911 |\n",
      "|   0.1200000000000001  |  0.7200000000000006  |  1.0400000000032583 | 6  | 4.500000000002911 |\n",
      "|  0.15999999999999992  |  0.9599999999999995  |  1.2200000000033735 | 6  | 4.500000000002911 |\n",
      "|  0.19999999999999996  |  1.1999999999999997  |  1.4000000000034902 | 6  | 4.500000000002911 |\n",
      "|          0.24         |         1.44         |  1.580000000003607  | 6  | 4.500000000002911 |\n",
      "|          0.28         |  1.6800000000000002  |  1.7600000000037235 | 6  | 4.500000000002911 |\n",
      "|  0.32000000000000006  |  1.9200000000000004  |   1.94000000000384  | 6  | 4.500000000002911 |\n",
      "|   0.3600000000000001  |  2.1600000000000006  |  2.120000000003957  | 6  | 4.500000000002911 |\n",
      "|  0.40000000000000013  |  2.400000000000001   |  2.3000000000040735 | 6  | 4.500000000002911 |\n",
      "|  0.43999999999999995  |  2.6399999999999997  |  2.4800000000041886 | 6  | 4.500000000002911 |\n",
      "|          0.48         |         2.88         |  2.660000000004305  | 6  | 4.500000000002911 |\n",
      "|          0.52         |         3.12         |  2.840000000004422  | 6  | 4.500000000002911 |\n",
      "|          0.56         |  3.3600000000000003  |  3.0200000000045386 | 6  | 4.500000000002911 |\n",
      "|   0.6000000000000001  |  3.6000000000000005  |  3.200000000004655  | 6  | 4.500000000002911 |\n",
      "|   0.6400000000000001  |  3.8400000000000007  |  3.3800000000047716 | 6  | 4.500000000002911 |\n",
      "|   0.6799999999999999  |         4.08         |  3.5600000000048873 | 6  | 4.500000000002911 |\n",
      "|          0.72         |         4.32         |  3.740000000005004  | 6  | 4.500000000002911 |\n",
      "|          0.76         |  4.5600000000000005  |  3.9200000000051207 | 6  | 4.500000000002911 |\n",
      "|          0.8          |  4.800000000000001   |  4.100000000005237  | 6  | 4.500000000002911 |\n",
      "|   0.8400000000000001  |  5.040000000000001   |  4.280000000005354  | 6  | 4.500000000002911 |\n",
      "|   0.8800000000000001  |  5.280000000000001   |   4.46000000000547  | 6  | 4.500000000002911 |\n",
      "|   0.9199999999999999  |         5.52         |  4.640000000005585  | 6  | 4.500000000002911 |\n",
      "|          0.96         |         5.76         |  4.820000000005702  | 6  | 4.500000000002911 |\n",
      "|          1.0          |         6.0          |  5.0000000000058185 | 6  | 4.500000000002911 |\n",
      "+-----------------------+----------------------+---------------------+----+-------------------+\n"
     ]
    }
   ],
   "source": [
    "if N < 0 or K <= 0 or epsilon < 0:\n",
    "    flag_IER = False\n",
    "    IER = 2\n",
    "    print('IER', IER, ':Неправильные значения')\n",
    "while flag_IER:\n",
    "    x_array = x_i()\n",
    "    u_array = np.zeros(N + 1)\n",
    "    w_array = np.zeros(N + 1)\n",
    "    u_array, w_array = RungeKut(u_array, w_array, alpha)\n",
    "\n",
    "    alpha2 = find_alpha2_value(alpha, u_array, w_array)\n",
    "\n",
    "    result = bisection(alpha, alpha2, epsilon, u_array, w_array)\n",
    "    print('Фи в альфа*', fiAlpha(result, u_array, w_array))\n",
    "\n",
    "    # Заголовок вывода\n",
    "    if not flag_IER:\n",
    "        break\n",
    "\n",
    "    th = [\"x\", \"y\", \"deltaU\", \"y'\", \"deltaU'\"]\n",
    "    td = []\n",
    "    for i in np.arange(0, N + 1):\n",
    "        td.append(x_array[i])\n",
    "        td.append(exact_solution(x_array[i], 0, 0))\n",
    "        td.append(abs(exact_solution(x_array[i], 0, 0) - u_array[i]))\n",
    "        td.append(derivative_exact_solution(x_array[i], 0, 0))\n",
    "        td.append(abs(derivative_exact_solution(x_array[i], 0, 0) - w_array[i]))\n",
    "    columns = len(th)\n",
    "    table = PrettyTable(th)\n",
    "    td_data = td[:]\n",
    "    while td_data:\n",
    "        table.add_row(td_data[:columns])\n",
    "        td_data = td_data[columns:]\n",
    "\n",
    "\n",
    "    print('EIR = 0:Безошибочная работа программы')\n",
    "    print('Количество итераций', iterations_count)\n",
    "    print('Конечное значение параметра пристрелки', result)\n",
    "\n",
    "    print(table)\n",
    "\n",
    "    flag_IER = False"
   ],
   "metadata": {
    "collapsed": false,
    "pycharm": {
     "name": "#%%\n"
    }
   }
  },
  {
   "cell_type": "code",
   "execution_count": 6,
   "outputs": [],
   "source": [
    "# y = np.zeros(N + 1)\n",
    "# deltau = np.zeros(N + 1)\n",
    "# y_ = np.zeros(N + 1)\n",
    "# deltau_ = np.zeros(N + 1)\n",
    "# for i in np.arange(0, N + 1):\n",
    "#         y[i] = exact_solution(x[i])\n",
    "#         deltau[i] = abs(exact_solution(x[i]) - u[i])\n",
    "#         y_[i] = derivative_exact_solution(x[i])\n",
    "#         deltau_[i] = abs(derivative_exact_solution(x[i]) - v[i])\n",
    "# plt.figure(figsize=(10,6))\n",
    "# plt.plot(\n",
    "#     x, y,\n",
    "#     x, y_\n",
    "# )\n",
    "# plt.legend([\n",
    "#     'Y',\n",
    "#     \"Y'\"\n",
    "# ])\n",
    "# plt.grid(true)\n",
    "# plt.title(\"Функции $Y$ и $Y'$\")\n",
    "# plt.xlabel(\"X\")\n",
    "# plt.ylabel(\"Y\")\n",
    "#\n",
    "# plt.figure(figsize=(10,6))\n",
    "# plt.plot(\n",
    "#     x, deltau\n",
    "# )\n",
    "# plt.legend([\n",
    "#     \"$\\delta$U\"\n",
    "# ])\n",
    "# plt.grid(true)\n",
    "# plt.title(\"Абсолютная погрешность для $Y$\")\n",
    "# plt.xlabel(\"X\")\n",
    "# plt.ylabel(\"Y\")\n",
    "#\n",
    "# plt.figure(figsize=(10,6))\n",
    "# plt.plot(\n",
    "#     x, deltau_\n",
    "# )\n",
    "# plt.legend([\n",
    "#     \"$\\delta$U'\"\n",
    "# ])\n",
    "# plt.grid(true)\n",
    "# plt.title(\"Абсолютная погрешность для $Y'$\")\n",
    "# plt.xlabel(\"X\")\n",
    "# plt.ylabel(\"Y\")"
   ],
   "metadata": {
    "collapsed": false,
    "pycharm": {
     "name": "#%%\n"
    }
   }
  },
  {
   "cell_type": "markdown",
   "source": [],
   "metadata": {
    "collapsed": false,
    "pycharm": {
     "name": "#%% md\n"
    }
   }
  },
  {
   "cell_type": "code",
   "execution_count": 6,
   "outputs": [],
   "source": [],
   "metadata": {
    "collapsed": false,
    "pycharm": {
     "name": "#%%\n"
    }
   }
  }
 ],
 "metadata": {
  "kernelspec": {
   "display_name": "Python 3",
   "language": "python",
   "name": "python3"
  },
  "language_info": {
   "codemirror_mode": {
    "name": "ipython",
    "version": 2
   },
   "file_extension": ".py",
   "mimetype": "text/x-python",
   "name": "python",
   "nbconvert_exporter": "python",
   "pygments_lexer": "ipython2",
   "version": "2.7.6"
  }
 },
 "nbformat": 4,
 "nbformat_minor": 0
}