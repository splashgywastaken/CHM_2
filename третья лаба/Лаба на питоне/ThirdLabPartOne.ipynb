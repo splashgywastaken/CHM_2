{
 "cells": [
  {
   "cell_type": "markdown",
   "source": [
    "Импорт нужных либ"
   ],
   "metadata": {
    "collapsed": false,
    "pycharm": {
     "name": "#%% md\n"
    }
   }
  },
  {
   "cell_type": "code",
   "execution_count": null,
   "outputs": [],
   "source": [
    "import math\n",
    "\n",
    "import numpy as np\n",
    "import matplotlib.pyplot as plt\n",
    "from sympy import *\n",
    "from prettytable import PrettyTable\n",
    "%matplotlib inline"
   ],
   "metadata": {
    "collapsed": false,
    "pycharm": {
     "name": "#%%\n"
    }
   }
  },
  {
   "cell_type": "markdown",
   "source": [
    "# Лабораторная работа №1. Задание 1. Вариант 25\n",
    "Решается обыкновенное дифференциальное уравнение\n",
    "$ U''(x) = f(x, U, U'), x \\in [a; b] $\n",
    "С краевыми (граничными) условиями\n",
    "$ U(a) = A; $\n",
    "$ \\mu_1U(b) + \\nu_1U'(b) = B $\n",
    "Метод решения уравнения $ \\varphi(\\alpha) = 0 $ - метод половинного деления\n",
    "Направление интегрирования: $ a \\implies b $"
   ],
   "metadata": {
    "collapsed": false,
    "pycharm": {
     "name": "#%% md\n"
    }
   }
  },
  {
   "cell_type": "markdown",
   "source": [
    "Входные параметры"
   ],
   "metadata": {
    "collapsed": false,
    "pycharm": {
     "name": "#%% md\n"
    }
   }
  },
  {
   "cell_type": "code",
   "execution_count": null,
   "outputs": [],
   "source": [
    "# Границы отрезка, на котором ищется решение:\n",
    "a, b = 1, 2\n",
    "# Число отрезков разбиения\n",
    "N = 50\n",
    "# Точность решения нелинейного уравнения\n",
    "epsilon = 1e-3\n",
    "# Предельное число итераций\n",
    "K = 10\n",
    "# Начальное значение пристрелочного параметра\n",
    "alpha = 4\n",
    "# Константы краевых уравнений\n",
    "A, B = 1, 8"
   ],
   "metadata": {
    "collapsed": false,
    "pycharm": {
     "name": "#%%\n"
    }
   }
  },
  {
   "cell_type": "code",
   "execution_count": null,
   "outputs": [],
   "source": [
    "# Шаг\n",
    "h = (b-a) / N\n",
    "flag_IER = True\n",
    "iterations_count = 0 # Для итераций в МПД\n",
    "x = Symbol('x')\n",
    "# u = df/dx\n",
    "u = Symbol('u')\n",
    "# w = du/dx\n",
    "w = Symbol('w')\n",
    "# Задание функции\n",
    "f_exact_function = 6 * u / x**2 - 2 * w / x\n",
    "f = lambdify([x, u, w], f_exact_function)\n",
    "print(f_exact_function)"
   ],
   "metadata": {
    "collapsed": false,
    "pycharm": {
     "name": "#%%\n"
    }
   }
  },
  {
   "cell_type": "markdown",
   "source": [
    "# Всякие функции для работы лабы"
   ],
   "metadata": {
    "collapsed": false,
    "pycharm": {
     "name": "#%% md\n"
    }
   }
  },
  {
   "cell_type": "code",
   "execution_count": null,
   "outputs": [],
   "source": [
    "# Разные функции для работы программы\n",
    "def x_i():\n",
    "        x_array = np.zeros(N + 1)\n",
    "        for i in range(N + 1):\n",
    "            x_array[i] = float(a + i * h)\n",
    "        return x_array\n",
    "\n",
    "# Функция первоначальной задачи Коши\n",
    "du_dx = lambda x, u, w: w\n",
    "\n",
    "dw_dx = f\n",
    "\n",
    "\n",
    "# Метод Рунге Кутта 2 порядка:\n",
    "def RungeKut(input_alpha):\n",
    "    input_u = np.zeros(N + 1)\n",
    "    input_w = np.zeros(N + 1)\n",
    "    input_u[0] = A # u\n",
    "    input_w[0] = input_alpha # w\n",
    "    k1 = np.zeros(2)\n",
    "    k2 = np.zeros(2)\n",
    "\n",
    "    for i in range(N):\n",
    "        k1[0] = (h * du_dx(x_array[i], input_u[i], input_w[i]))\n",
    "        k1[1] = (h * dw_dx(x_array[i], input_u[i], input_w[i]))\n",
    "\n",
    "        k2[0] = (h * du_dx(x_array[i] + h, input_u[i] + k1[0], input_w[i] + k1[1]))\n",
    "        k2[1] = (h * dw_dx(x_array[i] + h, input_u[i] + k1[0], input_w[i] + k1[1]))\n",
    "\n",
    "        input_u[i + 1] = (input_u[i] + 0.5 * (k1[0] + k2[0]))\n",
    "        input_w[i + 1] = (input_w[i] + 0.5 * (k1[1] + k2[1]))\n",
    "    return input_u, input_w\n",
    "\n",
    "\n",
    "def fi_alpha(input_alpha):\n",
    "    # В тмпу хранятся приближенные значения точного решения функции\n",
    "    # В тмпв знач. первой производной функции\n",
    "    tmp_u, tmp_w = RungeKut(input_alpha)\n",
    "    # Значение функции на границе - В, где В - значение производной функции с права\n",
    "    fi_alpha_value = tmp_w[N] - B\n",
    "    return fi_alpha_value\n",
    "\n",
    "\n",
    "def different_sign(lvalue, rvalue):\n",
    "    return lvalue * rvalue < 0\n",
    "\n",
    "\n",
    "def find_alpha2_value(alpha1):\n",
    "    delta_alpha = 1.\n",
    "    alpha2 = alpha1 + delta_alpha\n",
    "    fi_alpha1 = fi_alpha(alpha1)\n",
    "    fi_alpha2 = fi_alpha(alpha2)\n",
    "    flag_reversed = False\n",
    "    while not different_sign(fi_alpha1, fi_alpha2):\n",
    "        alpha2 = alpha1 + delta_alpha\n",
    "        fi_alpha2 = fi_alpha(alpha2)\n",
    "        if fi_alpha1 < 0:\n",
    "            if fi_alpha2 > fi_alpha1 and flag_reversed == False:\n",
    "                delta_alpha += .2\n",
    "            elif fi_alpha2 > fi_alpha1 and flag_reversed == True:\n",
    "                delta_alpha -= .2\n",
    "            elif fi_alpha2 < fi_alpha1:\n",
    "                delta_alpha = delta_alpha * -1\n",
    "                flag_reversed = True\n",
    "        if fi_alpha1 > 0:\n",
    "            if fi_alpha2 > fi_alpha1:\n",
    "                delta_alpha = delta_alpha * -1\n",
    "                flag_reversed = True\n",
    "            else:\n",
    "                if fi_alpha2 < fi_alpha1 and flag_reversed == False:\n",
    "                    delta_alpha += .2\n",
    "                if fi_alpha2 < fi_alpha1 and flag_reversed == True:\n",
    "                    delta_alpha -= .2\n",
    "    return alpha2\n",
    "\n",
    "# МПД\n",
    "def bisection(alpha1, alpha2, epsilon):\n",
    "    alpha3 = (alpha1 + alpha2) / 2\n",
    "    fi_alpha1 = fi_alpha(alpha1)\n",
    "    fi_alpha2 = fi_alpha(alpha2)\n",
    "    fi_alpha3 = fi_alpha(alpha3)\n",
    "    iterations_count = 1\n",
    "    while math.fabs(fi_alpha1 - fi_alpha2) > epsilon or iterations_count < K:\n",
    "        if math.fabs(fi_alpha2) <= epsilon:\n",
    "            # Возвращаем значение альфа\n",
    "            return alpha2\n",
    "        if different_sign(fi_alpha1, fi_alpha3):\n",
    "            alpha2 = alpha3\n",
    "        elif different_sign(fi_alpha3, fi_alpha2):\n",
    "            alpha1 = alpha3\n",
    "        fi_alpha1 = fi_alpha(alpha1)\n",
    "        fi_alpha2 = fi_alpha(alpha2)\n",
    "        fi_alpha3 = fi_alpha(alpha3)\n",
    "        iterations_count = iterations_count + 1\n",
    "    return alpha3, iterations_count"
   ],
   "metadata": {
    "collapsed": false,
    "pycharm": {
     "name": "#%%\n"
    }
   }
  },
  {
   "cell_type": "markdown",
   "source": [
    "# Код алгоритма"
   ],
   "metadata": {
    "collapsed": false,
    "pycharm": {
     "name": "#%% md\n"
    }
   }
  },
  {
   "cell_type": "code",
   "execution_count": null,
   "outputs": [],
   "source": [
    "if N < 0 or K <= 0 or epsilon < 0:\n",
    "    flag_IER = False\n",
    "    IER = 2\n",
    "    print('IER', IER, ':Неправильные значения')\n",
    "while flag_IER:\n",
    "    x_array = x_i()\n",
    "\n",
    "    # Ищем значение альфа 2 для метода половинного деления\n",
    "    alpha2 = find_alpha2_value(alpha)\n",
    "\n",
    "    # Ищем значение альфа с помощью метода половинного деления\n",
    "    result_alpha = bisection(alpha, alpha2, epsilon)\n",
    "\n",
    "    # Находим итоговое решение задачи методом РК\n",
    "    u_array, w_array = RungeKut(result_alpha)\n",
    "\n",
    "    # Заголовок вывода\n",
    "    if not flag_IER:\n",
    "        break\n",
    "\n",
    "    f_exact = lambda x: x**2\n",
    "    f_derivative_exact = lambda x: 2*x\n",
    "\n",
    "    th = [\"x\", \"y\", \"deltaU\", \"y'\", \"deltaU'\"]\n",
    "    td = []\n",
    "    for i in np.arange(0, N + 1):\n",
    "        td.append(x_array[i])\n",
    "        td.append(f_exact(x_array[i]))\n",
    "        # td.append(abs(f_exact(x_array[i]) - u_array[i]))\n",
    "        td.append(u_array[i])\n",
    "        td.append(f_derivative_exact(x_array[i]))\n",
    "        # td.append(abs(f_derivative_exact(x_array[i]) - w_array[i]))\n",
    "        td.append(w_array[i])\n",
    "    columns = len(th)\n",
    "    table = PrettyTable(th)\n",
    "    td_data = td[:]\n",
    "    while td_data:\n",
    "        table.add_row(td_data[:columns])\n",
    "        td_data = td_data[columns:]\n",
    "\n",
    "    print('EIR = 0:Безошибочная работа программы')\n",
    "    print('Фи в альфа', fi_alpha(result))\n",
    "    print('Погрешность epsilon введенная пользователем:', epsilon)\n",
    "    print('Количество итераций', iterations_count)\n",
    "    print('Конечное значение параметра пристрелки', result)\n",
    "    print(table)\n",
    "\n",
    "    flag_IER = False"
   ],
   "metadata": {
    "collapsed": false,
    "pycharm": {
     "name": "#%%\n"
    }
   }
  }
 ],
 "metadata": {
  "kernelspec": {
   "display_name": "Python 3",
   "language": "python",
   "name": "python3"
  },
  "language_info": {
   "codemirror_mode": {
    "name": "ipython",
    "version": 2
   },
   "file_extension": ".py",
   "mimetype": "text/x-python",
   "name": "python",
   "nbconvert_exporter": "python",
   "pygments_lexer": "ipython2",
   "version": "2.7.6"
  }
 },
 "nbformat": 4,
 "nbformat_minor": 0
}