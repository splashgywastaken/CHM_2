{
 "cells": [
  {
   "cell_type": "markdown",
   "source": [
    "Импорт нужных либ"
   ],
   "metadata": {
    "collapsed": false,
    "pycharm": {
     "name": "#%% md\n"
    }
   }
  },
  {
   "cell_type": "code",
   "execution_count": 93,
   "metadata": {
    "collapsed": true,
    "pycharm": {
     "name": "#%%\n"
    }
   },
   "outputs": [],
   "source": [
    "import numpy as np\n",
    "import matplotlib.pyplot as plt\n",
    "import math as m\n",
    "from sympy import *\n",
    "from prettytable import PrettyTable"
   ]
  },
  {
   "cell_type": "markdown",
   "source": [
    "# Задание 2. Вариант 6\n",
    "Решается обыкновенное дифференциальное уравнение\n",
    "$ U'''(x) = f(x, U, U', U''), x \\in [a; b] $\n",
    "С краевыми (граничными) условиями\n",
    "$ U'(a) = A; $\n",
    "$ U(b) = B, U''(b) = C $\n",
    "Метод решения уравнения $ \\varphi(\\alpha) = 0 $ - метод секущих\n",
    "Направление интегрирования: $ a \\implies b $"
   ],
   "metadata": {
    "collapsed": false,
    "pycharm": {
     "name": "#%% md\n"
    }
   }
  },
  {
   "cell_type": "code",
   "execution_count": 94,
   "outputs": [],
   "source": [
    "# Границы отрезка, на котором ищется решение:\n",
    "a, b = -1, 1\n",
    "# Число отрезков разбиения\n",
    "N = 50\n",
    "# Точность решения нелинейного уравнения\n",
    "epsilon = 1e-11\n",
    "# Предельное число итераций\n",
    "K = 1000\n",
    "# Начальное значение пристрелочного параметра\n",
    "alpha0, alpha1 = -1, 1\n",
    "# Константы краевых уравнений\n",
    "A, B, C = -2, 1, 2"
   ],
   "metadata": {
    "collapsed": false,
    "pycharm": {
     "name": "#%%\n"
    }
   }
  },
  {
   "cell_type": "markdown",
   "source": [
    "Данные для работы программы"
   ],
   "metadata": {
    "collapsed": false,
    "pycharm": {
     "name": "#%% md\n"
    }
   }
  },
  {
   "cell_type": "code",
   "execution_count": 95,
   "outputs": [],
   "source": [
    "# Шаг\n",
    "h = (b - a) / N\n",
    "iterations_count = 0  # Для итераций в методе секущих\n",
    "\n",
    "x = Symbol('x')\n",
    "u = Symbol('u')\n",
    "v = Symbol('v')\n",
    "w = Symbol('w')\n",
    "# Задание функции\n",
    "# f_exact_solution = x**4 + 2 * u**3 + 3 * v**2 + 4 * w\n",
    "f_exact_solution = x**3\n",
    "exact_solution = lambdify([x, u, v, w], f_exact_solution)\n",
    "# Первая производная\n",
    "fd_exact_solution = diff(f_exact_solution, x)\n",
    "derivative_exact_solution = lambdify([x, u, v, w], fd_exact_solution)\n",
    "# Вторая производная\n",
    "f2d_exact_solution = diff(fd_exact_solution, )\n",
    "derivative2_exact_solution = lambdify([x, u, v, w], f2d_exact_solution)"
   ],
   "metadata": {
    "collapsed": false,
    "pycharm": {
     "name": "#%%\n"
    }
   }
  },
  {
   "cell_type": "markdown",
   "source": [
    "Функции для работы программы"
   ],
   "metadata": {
    "collapsed": false,
    "pycharm": {
     "name": "#%% md\n"
    }
   }
  },
  {
   "cell_type": "code",
   "execution_count": 96,
   "outputs": [],
   "source": [
    "# Разные функции для работы программы\n",
    "def x_i():\n",
    "    array = np.zeros(N + 1)\n",
    "    for i in range(N + 1):\n",
    "        array[i] = float(a + i * h)\n",
    "    return array\n",
    "\n",
    "\n",
    "# Функция первоначальной задачи Коши\n",
    "f1 = lambda input_x, input_u, input_v, input_w: input_v\n",
    "\n",
    "f2 = lambda input_x, input_u, input_v, input_w: input_w\n",
    "\n",
    "f3 = derivative2_exact_solution\n",
    "\n",
    "# Метод Рунге Кутта 2 порядка:\n",
    "def RungeKut(input_alpha, f1, f2, f3):\n",
    "    input_u = np.zeros(N + 1)\n",
    "    input_v = np.zeros(N + 1)\n",
    "    input_w = np.zeros(N + 1)\n",
    "    input_u[N] = B  # u\n",
    "    input_v[N] = input_alpha  # v\n",
    "    input_w[N] = C  # w\n",
    "    k1 = np.zeros(3)\n",
    "    k2 = np.zeros(3)\n",
    "\n",
    "    for i in range(N, 1, -1):\n",
    "        k1[0] = (h * f1(x_array[i], input_u[i], input_v[i], input_w[i]))\n",
    "        k1[1] = (h * f2(x_array[i], input_u[i], input_v[i], input_w[i]))\n",
    "        k1[2] = (h * f3(x_array[i], input_u[i], input_v[i], input_w[i]))\n",
    "\n",
    "        k2[0] = (h * f1(x_array[i] + h, input_u[i] + k1[0], input_v[i] + k1[1], input_w[i] + k1[2]))\n",
    "        k2[1] = (h * f2(x_array[i] + h, input_u[i] + k1[0], input_v[i] + k1[1], input_w[i] + k1[2]))\n",
    "        k2[2] = (h * f3(x_array[i] + h, input_u[i] + k1[0], input_v[i] + k1[1], input_w[i] + k1[2]))\n",
    "\n",
    "        input_u[i - 1] = input_u[i] + 0.5 * (k1[0] + k2[0])\n",
    "        input_v[i - 1] = input_u[i] + 0.5 * (k1[1] + k2[1])\n",
    "        input_w[i - 1] = input_w[i] + 0.5 * (k1[2] + k2[2])\n",
    "    return input_u, input_v, input_w\n",
    "\n",
    "\n",
    "def shooting_mehod():\n",
    "    param_alpha0 = alpha0\n",
    "    param_alpha1 = alpha1\n",
    "\n",
    "    # du/dx = v\n",
    "    f_u = f1\n",
    "    # dv/dx = w\n",
    "    f_v = f2\n",
    "    # dw/dx\n",
    "    f_w = exact_solution\n",
    "\n",
    "    _, rk0_result, _ = RungeKut(param_alpha0, f_u, f_v, f_w)\n",
    "    _, rk1_result, _ = RungeKut(param_alpha1, f_u, f_v, f_w)\n",
    "\n",
    "    fi_alpha0 = rk0_result[0] - A\n",
    "    fi_alpha1 = rk1_result[0] - A\n",
    "\n",
    "    # Метод секущих для вычисления следующего приближения альфа\n",
    "    param_alpha2 = param_alpha1 - fi_alpha1 * (param_alpha1 - param_alpha0) / (fi_alpha1 - fi_alpha0)\n",
    "\n",
    "    _, rk2_result, _ = RungeKut(param_alpha2, f_u, f_v, f_w)\n",
    "    fi = rk2_result[0] - A\n",
    "    iterations_count = 1\n",
    "\n",
    "    IER = 2\n",
    "    while m.fabs(fi) > epsilon and iterations_count < K:\n",
    "        iterations_count = iterations_count + 1\n",
    "        param_alpha0 = param_alpha1\n",
    "        param_alpha1 = param_alpha2\n",
    "        fi_alpha0 = fi_alpha1\n",
    "        fi_alpha1 = fi\n",
    "        if m.fabs(fi_alpha1 - fi_alpha0) <= epsilon:\n",
    "            return 2, None\n",
    "        param_alpha2 = param_alpha1 * (param_alpha1 - param_alpha0) / (fi_alpha1 - fi_alpha0)\n",
    "        _, rk_result, _ = RungeKut(param_alpha2, f_u, f_v, f_w)\n",
    "        fi = rk_result[0] - A\n",
    "        if iterations_count >= K:\n",
    "            # Output code that iterations more than possible\n",
    "            IER = 1\n",
    "        if fi <= epsilon:\n",
    "            # Output code that everything fine\n",
    "            IER = 0\n",
    "\n",
    "    return IER, param_alpha2"
   ],
   "metadata": {
    "collapsed": false,
    "pycharm": {
     "name": "#%%\n"
    }
   }
  },
  {
   "cell_type": "markdown",
   "source": [],
   "metadata": {
    "collapsed": false,
    "pycharm": {
     "name": "#%% md\n"
    }
   }
  },
  {
   "cell_type": "code",
   "execution_count": 97,
   "outputs": [
    {
     "name": "stdout",
     "output_type": "stream",
     "text": [
      "EIR = 2: Ошибка работы программы\n"
     ]
    },
    {
     "name": "stderr",
     "output_type": "stream",
     "text": [
      "C:\\Users\\splashgy\\AppData\\Local\\Temp/ipykernel_8048/3590976442.py:60: RuntimeWarning: divide by zero encountered in double_scalars\n",
      "  param_alpha2 = param_alpha1 - fi_alpha1 * (param_alpha1 - param_alpha0) / (fi_alpha1 - fi_alpha0)\n"
     ]
    }
   ],
   "source": [
    "check = True\n",
    "if N < 0 or K <= 0 or epsilon < 0:\n",
    "    check = False\n",
    "    IER = 2\n",
    "    print('IER', IER, ':Неправильные значения параметров')\n",
    "if check:\n",
    "    x_array = x_i()\n",
    "\n",
    "    IER, alpha = shooting_mehod()\n",
    "\n",
    "    if IER == 0:\n",
    "        th = [\"x\", \"y\", \"deltaU\", \"y'\", \"deltaU'\", \"y''\", \"deltaU''\"]\n",
    "        td = []\n",
    "        for i in np.arange(0, N + 1):\n",
    "            td.append(\n",
    "                round(x_array[i], 4)\n",
    "            )\n",
    "            td.append(\n",
    "                round(exact_solution(x_array[i], x_array[i], x_array[i], x_array[i]), 4)\n",
    "            )\n",
    "            td.append(\n",
    "                round(abs(exact_solution(x_array[i], x_array[i], x_array[i], x_array[i]) - u_array[i]), 4)\n",
    "            )\n",
    "            td.append(\n",
    "                round(derivative_exact_solution(x_array[i], x_array[i], x_array[i], x_array[i]), 4)\n",
    "            )\n",
    "            td.append(\n",
    "                round(abs(derivative_exact_solution(x_array[i], x_array[i], x_array[i], x_array[i]) - v_array[i]), 4)\n",
    "            )\n",
    "            td.append(\n",
    "                round(derivative2_exact_solution(x_array[i], x_array[i], x_array[i], x_array[i]), 4)\n",
    "            )\n",
    "            td.append(\n",
    "                round(abs(derivative2_exact_solution(x_array[i], x_array[i], x_array[i], x_array[i]) - w_array[i]), 4)\n",
    "            )\n",
    "        columns = len(th)\n",
    "        table = PrettyTable(th)\n",
    "        td_data = td[:]\n",
    "        while td_data:\n",
    "            table.add_row(td_data[:columns])\n",
    "            td_data = td_data[columns:]\n",
    "\n",
    "        print('EIR = 0:Безошибочная работа программы')\n",
    "        print('Количество итераций', iterations_count)\n",
    "        print('Конечное значение параметра пристрелки', result_alpha)\n",
    "\n",
    "        print(table)\n",
    "    else:\n",
    "        if IER == 1:\n",
    "            print('EIR = 1: Количество итераций превысило установленный максимум')\n",
    "            print(alpha)\n",
    "        else:\n",
    "            print('EIR = 2: Ошибка работы программы')"
   ],
   "metadata": {
    "collapsed": false,
    "pycharm": {
     "name": "#%%\n"
    }
   }
  }
 ],
 "metadata": {
  "kernelspec": {
   "display_name": "Python 3",
   "language": "python",
   "name": "python3"
  },
  "language_info": {
   "codemirror_mode": {
    "name": "ipython",
    "version": 2
   },
   "file_extension": ".py",
   "mimetype": "text/x-python",
   "name": "python",
   "nbconvert_exporter": "python",
   "pygments_lexer": "ipython2",
   "version": "2.7.6"
  }
 },
 "nbformat": 4,
 "nbformat_minor": 0
}