{
 "cells": [
  {
   "cell_type": "markdown",
   "source": [
    "Импорт нужных либ"
   ],
   "metadata": {
    "collapsed": false,
    "pycharm": {
     "name": "#%% md\n"
    }
   }
  },
  {
   "cell_type": "code",
   "execution_count": 12,
   "metadata": {
    "collapsed": true,
    "pycharm": {
     "name": "#%%\n"
    }
   },
   "outputs": [],
   "source": [
    "import numpy as np\n",
    "import matplotlib.pyplot as plt\n",
    "from sympy import *\n",
    "from prettytable import PrettyTable\n",
    "%matplotlib inline"
   ]
  },
  {
   "cell_type": "markdown",
   "source": [
    "# Задание 2. Вариант 6\n",
    "Решается обыкновенное дифференциальное уравнение\n",
    "$ U'''(x) = f(x, U, U', U''), x \\in [a; b] $\n",
    "С краевыми (граничными) условиями\n",
    "$ U'(a) = A; $\n",
    "$ U(b) = B, U''(b) = C $\n",
    "Метод решения уравнения $ \\varphi(\\alpha) = 0 $ - метод секущих\n",
    "Направление интегрирования: $ a \\implies b $"
   ],
   "metadata": {
    "collapsed": false,
    "pycharm": {
     "name": "#%% md\n"
    }
   }
  },
  {
   "cell_type": "code",
   "execution_count": 13,
   "outputs": [],
   "source": [
    "# Границы отрезка, на котором ищется решение:\n",
    "a, b = -1, 1\n",
    "# Число отрезков разбиения\n",
    "N = 50\n",
    "# Точность решения нелинейного уравнения\n",
    "epsilon = 1e-11\n",
    "# Предельное число итераций\n",
    "K = 1000\n",
    "# Начальное значение пристрелочного параметра\n",
    "alpha0 = 0\n",
    "alpha1 = 0\n",
    "# Использовать коэффициенты A и B или mu1 и nu1\n",
    "# Константы краевых уравнений\n",
    "A, B, C = -2, 1, 2"
   ],
   "metadata": {
    "collapsed": false,
    "pycharm": {
     "name": "#%%\n"
    }
   }
  },
  {
   "cell_type": "markdown",
   "source": [
    "Данные для работы программы"
   ],
   "metadata": {
    "collapsed": false,
    "pycharm": {
     "name": "#%% md\n"
    }
   }
  },
  {
   "cell_type": "code",
   "execution_count": 14,
   "outputs": [],
   "source": [
    "# Шаг\n",
    "h = (b-a) / N\n",
    "flag_IER = True\n",
    "iterations_count = 0 # Для итераций в МПД\n",
    "\n",
    "x = Symbol('x')\n",
    "u = Symbol('u')\n",
    "v = Symbol('v')\n",
    "w = Symbol('w')\n",
    "# Задание функции\n",
    "f_exact_solution = x ** 3\n",
    "exact_solution = lambdify([x, u, v, w], f_exact_solution)\n",
    "# Первая производная\n",
    "fd_exact_solution = diff(f_exact_solution, x)\n",
    "derivative_exact_solution = lambdify([x, u, v, w], fd_exact_solution)\n",
    "# Вторая производная\n",
    "f2d_exact_solution = diff(fd_exact_solution, )\n",
    "derivative2_exact_solution = lambdify([x, u, v, w], f2d_exact_solution)"
   ],
   "metadata": {
    "collapsed": false,
    "pycharm": {
     "name": "#%%\n"
    }
   }
  },
  {
   "cell_type": "markdown",
   "source": [
    "Функции для работы программы"
   ],
   "metadata": {
    "collapsed": false,
    "pycharm": {
     "name": "#%% md\n"
    }
   }
  },
  {
   "cell_type": "code",
   "execution_count": 15,
   "outputs": [],
   "source": [
    "# Разные функции для работы программы\n",
    "def x_i():\n",
    "        array = np.zeros(N + 1)\n",
    "        for i in range(N + 1):\n",
    "            array[i] = float(a + i * h)\n",
    "        return array\n",
    "\n",
    "# Функция первоначальной задачи Коши\n",
    "f1 = lambda input_x, input_u, input_v, input_w: v\n",
    "\n",
    "f2 = lambda input_x, input_u, input_v, input_w: w\n",
    "\n",
    "f3 = derivative2_exact_solution\n",
    "\n",
    "# Метод Рунге Кутта 2 порядка:\n",
    "def RungeKut(input_alpha):\n",
    "    input_u = zeros(N)\n",
    "    input_v = zeros(N)\n",
    "    input_w = zeros(N)\n",
    "    input_u[N] = B # u\n",
    "    input_v[N] = input_alpha # v\n",
    "    input_w[N] = C # w\n",
    "    k1 = np.zeros(3)\n",
    "    k2 = np.zeros(3)\n",
    "\n",
    "    for i in range(N, 1, -1):\n",
    "        k1[0] = (h * f1(x_array[i], input_u[i], input_v[i], input_w[i]))\n",
    "        k1[1] = (h * f2(x_array[i], input_u[i], input_v[i], input_w[i]))\n",
    "        k1[2] = (h * f3(x_array[i], input_u[i], input_v[i], input_w[i]))\n",
    "\n",
    "        k2[0] = (h * f1(x_array[i] + h, input_u[i] + k1[0], input_v[i] + k1[1], input_w[i] + k1[1]))\n",
    "        k2[1] = (h * f2(x_array[i] + h, input_u[i] + k1[0], input_v[i] + k1[1], input_w[i] + k1[1]))\n",
    "        k2[2] = (h * f3(x_array[i] + h, input_u[i] + k1[0], input_v[i] + k1[1], input_w[i] + k1[1]))\n",
    "\n",
    "        input_u[i - 1] = input_u[i] + 0.5 * (k1[0] + k2[0])\n",
    "        input_v[i - 1] = input_u[i] + 0.5 * (k1[1] + k2[1])\n",
    "        input_w[i - 1] = input_w[i] + 0.5 * (k1[2] + k2[2])\n",
    "    return input_u, input_v, input_w\n",
    "\n",
    "def fiAlpha(input_alpha):\n",
    "    # В тмпу хранятся приближенные значения точного решения функции\n",
    "    # В тмпв знач. первой производной функции\n",
    "    _, tmp_v, _ = RungeKut(input_alpha)\n",
    "    # Значение функции на границе - В, где В - значение производной функции с права\n",
    "    fi_alpha_value = tmp_v[N] - A\n",
    "    return fi_alpha_value\n",
    "\n",
    "# метод секущих\n",
    "def secant(input_alpha0, input_alpha1):\n",
    "    global flag_IER\n",
    "    global iterations_count\n",
    "    if iterations_count > K:\n",
    "        print('IER = 1:Количество итераций слишком велико')\n",
    "        flag_IER = False\n",
    "        return None\n",
    "\n",
    "    while iterations_count < K:\n",
    "        fi_alpha0 = fiAlpha(input_alpha0)\n",
    "        fi_alpha1 = fiAlpha(input_alpha1)\n",
    "        alpha2 = alpha1 - (fi_alpha1 * (alpha1 - alpha0)) / (fi_alpha1 - fi_alpha0)\n",
    "        if alpha2 < epsilon:\n",
    "            return alpha2\n",
    "        else:\n",
    "            iterations_count += 1\n",
    "            input_alpha0 = input_alpha1\n",
    "            input_alpha1 = alpha2\n",
    "    return"
   ],
   "metadata": {
    "collapsed": false,
    "pycharm": {
     "name": "#%%\n"
    }
   }
  },
  {
   "cell_type": "markdown",
   "source": [],
   "metadata": {
    "collapsed": false,
    "pycharm": {
     "name": "#%% md\n"
    }
   }
  },
  {
   "cell_type": "code",
   "execution_count": 16,
   "outputs": [
    {
     "ename": "TypeError",
     "evalue": "can't convert expression to float",
     "output_type": "error",
     "traceback": [
      "\u001B[1;31m---------------------------------------------------------------------------\u001B[0m",
      "\u001B[1;31mTypeError\u001B[0m                                 Traceback (most recent call last)",
      "\u001B[1;32m~\\AppData\\Local\\Temp/ipykernel_2272/1832073386.py\u001B[0m in \u001B[0;36m<module>\u001B[1;34m\u001B[0m\n\u001B[0;32m      6\u001B[0m \u001B[1;33m\u001B[0m\u001B[0m\n\u001B[0;32m      7\u001B[0m     \u001B[0mx_array\u001B[0m \u001B[1;33m=\u001B[0m \u001B[0mx_i\u001B[0m\u001B[1;33m(\u001B[0m\u001B[1;33m)\u001B[0m\u001B[1;33m\u001B[0m\u001B[1;33m\u001B[0m\u001B[0m\n\u001B[1;32m----> 8\u001B[1;33m     \u001B[0mu_array\u001B[0m\u001B[1;33m,\u001B[0m \u001B[0mv_array\u001B[0m\u001B[1;33m,\u001B[0m \u001B[0mw_array\u001B[0m \u001B[1;33m=\u001B[0m \u001B[0mRungeKut\u001B[0m\u001B[1;33m(\u001B[0m\u001B[0malpha1\u001B[0m\u001B[1;33m)\u001B[0m\u001B[1;33m\u001B[0m\u001B[1;33m\u001B[0m\u001B[0m\n\u001B[0m\u001B[0;32m      9\u001B[0m \u001B[1;33m\u001B[0m\u001B[0m\n\u001B[0;32m     10\u001B[0m     \u001B[0mresult_alpha\u001B[0m \u001B[1;33m=\u001B[0m \u001B[0msecant\u001B[0m\u001B[1;33m(\u001B[0m\u001B[0malpha0\u001B[0m\u001B[1;33m,\u001B[0m \u001B[0malpha1\u001B[0m\u001B[1;33m)\u001B[0m\u001B[1;33m\u001B[0m\u001B[1;33m\u001B[0m\u001B[0m\n",
      "\u001B[1;32m~\\AppData\\Local\\Temp/ipykernel_2272/1658393106.py\u001B[0m in \u001B[0;36mRungeKut\u001B[1;34m(input_alpha)\u001B[0m\n\u001B[0;32m     25\u001B[0m \u001B[1;33m\u001B[0m\u001B[0m\n\u001B[0;32m     26\u001B[0m     \u001B[1;32mfor\u001B[0m \u001B[0mi\u001B[0m \u001B[1;32min\u001B[0m \u001B[0mrange\u001B[0m\u001B[1;33m(\u001B[0m\u001B[0mN\u001B[0m\u001B[1;33m,\u001B[0m \u001B[1;36m1\u001B[0m\u001B[1;33m,\u001B[0m \u001B[1;33m-\u001B[0m\u001B[1;36m1\u001B[0m\u001B[1;33m)\u001B[0m\u001B[1;33m:\u001B[0m\u001B[1;33m\u001B[0m\u001B[1;33m\u001B[0m\u001B[0m\n\u001B[1;32m---> 27\u001B[1;33m         \u001B[0mk1\u001B[0m\u001B[1;33m[\u001B[0m\u001B[1;36m0\u001B[0m\u001B[1;33m]\u001B[0m \u001B[1;33m=\u001B[0m \u001B[1;33m(\u001B[0m\u001B[0mh\u001B[0m \u001B[1;33m*\u001B[0m \u001B[0mf1\u001B[0m\u001B[1;33m(\u001B[0m\u001B[0mx_array\u001B[0m\u001B[1;33m[\u001B[0m\u001B[0mi\u001B[0m\u001B[1;33m]\u001B[0m\u001B[1;33m,\u001B[0m \u001B[0minput_u\u001B[0m\u001B[1;33m[\u001B[0m\u001B[0mi\u001B[0m\u001B[1;33m]\u001B[0m\u001B[1;33m,\u001B[0m \u001B[0minput_v\u001B[0m\u001B[1;33m[\u001B[0m\u001B[0mi\u001B[0m\u001B[1;33m]\u001B[0m\u001B[1;33m,\u001B[0m \u001B[0minput_w\u001B[0m\u001B[1;33m[\u001B[0m\u001B[0mi\u001B[0m\u001B[1;33m]\u001B[0m\u001B[1;33m)\u001B[0m\u001B[1;33m)\u001B[0m\u001B[1;33m\u001B[0m\u001B[1;33m\u001B[0m\u001B[0m\n\u001B[0m\u001B[0;32m     28\u001B[0m         \u001B[0mk1\u001B[0m\u001B[1;33m[\u001B[0m\u001B[1;36m1\u001B[0m\u001B[1;33m]\u001B[0m \u001B[1;33m=\u001B[0m \u001B[1;33m(\u001B[0m\u001B[0mh\u001B[0m \u001B[1;33m*\u001B[0m \u001B[0mf2\u001B[0m\u001B[1;33m(\u001B[0m\u001B[0mx_array\u001B[0m\u001B[1;33m[\u001B[0m\u001B[0mi\u001B[0m\u001B[1;33m]\u001B[0m\u001B[1;33m,\u001B[0m \u001B[0minput_u\u001B[0m\u001B[1;33m[\u001B[0m\u001B[0mi\u001B[0m\u001B[1;33m]\u001B[0m\u001B[1;33m,\u001B[0m \u001B[0minput_v\u001B[0m\u001B[1;33m[\u001B[0m\u001B[0mi\u001B[0m\u001B[1;33m]\u001B[0m\u001B[1;33m,\u001B[0m \u001B[0minput_w\u001B[0m\u001B[1;33m[\u001B[0m\u001B[0mi\u001B[0m\u001B[1;33m]\u001B[0m\u001B[1;33m)\u001B[0m\u001B[1;33m)\u001B[0m\u001B[1;33m\u001B[0m\u001B[1;33m\u001B[0m\u001B[0m\n\u001B[0;32m     29\u001B[0m         \u001B[0mk1\u001B[0m\u001B[1;33m[\u001B[0m\u001B[1;36m2\u001B[0m\u001B[1;33m]\u001B[0m \u001B[1;33m=\u001B[0m \u001B[1;33m(\u001B[0m\u001B[0mh\u001B[0m \u001B[1;33m*\u001B[0m \u001B[0mf3\u001B[0m\u001B[1;33m(\u001B[0m\u001B[0mx_array\u001B[0m\u001B[1;33m[\u001B[0m\u001B[0mi\u001B[0m\u001B[1;33m]\u001B[0m\u001B[1;33m,\u001B[0m \u001B[0minput_u\u001B[0m\u001B[1;33m[\u001B[0m\u001B[0mi\u001B[0m\u001B[1;33m]\u001B[0m\u001B[1;33m,\u001B[0m \u001B[0minput_v\u001B[0m\u001B[1;33m[\u001B[0m\u001B[0mi\u001B[0m\u001B[1;33m]\u001B[0m\u001B[1;33m,\u001B[0m \u001B[0minput_w\u001B[0m\u001B[1;33m[\u001B[0m\u001B[0mi\u001B[0m\u001B[1;33m]\u001B[0m\u001B[1;33m)\u001B[0m\u001B[1;33m)\u001B[0m\u001B[1;33m\u001B[0m\u001B[1;33m\u001B[0m\u001B[0m\n",
      "\u001B[1;32m~\\anaconda3\\lib\\site-packages\\sympy\\core\\expr.py\u001B[0m in \u001B[0;36m__float__\u001B[1;34m(self)\u001B[0m\n\u001B[0;32m    357\u001B[0m         \u001B[1;32mif\u001B[0m \u001B[0mresult\u001B[0m\u001B[1;33m.\u001B[0m\u001B[0mis_number\u001B[0m \u001B[1;32mand\u001B[0m \u001B[0mresult\u001B[0m\u001B[1;33m.\u001B[0m\u001B[0mas_real_imag\u001B[0m\u001B[1;33m(\u001B[0m\u001B[1;33m)\u001B[0m\u001B[1;33m[\u001B[0m\u001B[1;36m1\u001B[0m\u001B[1;33m]\u001B[0m\u001B[1;33m:\u001B[0m\u001B[1;33m\u001B[0m\u001B[1;33m\u001B[0m\u001B[0m\n\u001B[0;32m    358\u001B[0m             \u001B[1;32mraise\u001B[0m \u001B[0mTypeError\u001B[0m\u001B[1;33m(\u001B[0m\u001B[1;34m\"can't convert complex to float\"\u001B[0m\u001B[1;33m)\u001B[0m\u001B[1;33m\u001B[0m\u001B[1;33m\u001B[0m\u001B[0m\n\u001B[1;32m--> 359\u001B[1;33m         \u001B[1;32mraise\u001B[0m \u001B[0mTypeError\u001B[0m\u001B[1;33m(\u001B[0m\u001B[1;34m\"can't convert expression to float\"\u001B[0m\u001B[1;33m)\u001B[0m\u001B[1;33m\u001B[0m\u001B[1;33m\u001B[0m\u001B[0m\n\u001B[0m\u001B[0;32m    360\u001B[0m \u001B[1;33m\u001B[0m\u001B[0m\n\u001B[0;32m    361\u001B[0m     \u001B[1;32mdef\u001B[0m \u001B[0m__complex__\u001B[0m\u001B[1;33m(\u001B[0m\u001B[0mself\u001B[0m\u001B[1;33m)\u001B[0m\u001B[1;33m:\u001B[0m\u001B[1;33m\u001B[0m\u001B[1;33m\u001B[0m\u001B[0m\n",
      "\u001B[1;31mTypeError\u001B[0m: can't convert expression to float"
     ]
    }
   ],
   "source": [
    "if N < 0 or K <= 0 or epsilon < 0:\n",
    "    flag_IER = False\n",
    "    IER = 2\n",
    "    print('IER', IER, ':Неправильные значения параметров')\n",
    "while flag_IER:\n",
    "\n",
    "    x_array = x_i()\n",
    "    u_array, v_array, w_array = RungeKut(alpha1)\n",
    "\n",
    "    result_alpha = secant(alpha0, alpha1)\n",
    "\n",
    "    print('Фи в альфа*', fiAlpha(result_alpha))\n",
    "    print(result_alpha)\n",
    "\n",
    "    # Заголовок вывода\n",
    "    if not flag_IER:\n",
    "        break\n",
    "\n",
    "    th = [\"x\", \"y\", \"deltaU\", \"y'\", \"deltaU'\"]\n",
    "    td = []\n",
    "    for i in np.arange(0, N + 1):\n",
    "        td.append(x_array[i])\n",
    "        td.append(exact_solution(x_array[i], 0, 0))\n",
    "        td.append(abs(exact_solution(x_array[i], 0, 0) - u_array[i]))\n",
    "        td.append(derivative_exact_solution(x_array[i], 0, 0))\n",
    "        td.append(abs(derivative_exact_solution(x_array[i], 0, 0) - w_array[i]))\n",
    "    columns = len(th)\n",
    "    table = PrettyTable(th)\n",
    "    td_data = td[:]\n",
    "    while td_data:\n",
    "        table.add_row(td_data[:columns])\n",
    "        td_data = td_data[columns:]\n",
    "\n",
    "    print('EIR = 0:Безошибочная работа программы')\n",
    "    print('Количество итераций', iterations_count)\n",
    "    print('Конечное значение параметра пристрелки', result_alpha)\n",
    "\n",
    "    print(table)"
   ],
   "metadata": {
    "collapsed": false,
    "pycharm": {
     "name": "#%%\n"
    }
   }
  }
 ],
 "metadata": {
  "kernelspec": {
   "display_name": "Python 3",
   "language": "python",
   "name": "python3"
  },
  "language_info": {
   "codemirror_mode": {
    "name": "ipython",
    "version": 2
   },
   "file_extension": ".py",
   "mimetype": "text/x-python",
   "name": "python",
   "nbconvert_exporter": "python",
   "pygments_lexer": "ipython2",
   "version": "2.7.6"
  }
 },
 "nbformat": 4,
 "nbformat_minor": 0
}